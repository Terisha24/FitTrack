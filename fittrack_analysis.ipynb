{
 "cells": [
  {
   "cell_type": "markdown",
   "id": "adbd9562",
   "metadata": {},
   "source": [
    "# FitTrack: Personal Fitness Progress Dashboard\n",
    "This notebook analyzes 30 days of structured fitness and wellness data using Python. We explore trends in workout consistency, sleep, calorie burn, and physical transformation.\n",
    "**Author:** Terisha Poudel"
   ]
  },
  {
   "cell_type": "code",
   "execution_count": null,
   "id": "19a1f877",
   "metadata": {},
   "outputs": [],
   "source": [
    "import pandas as pd\n",
    "import matplotlib.pyplot as plt\n",
    "import seaborn as sns\n",
    "\n",
    "# Load dataset\n",
    "fitness_df = pd.read_csv('fitness_data_project.csv', parse_dates=['Date'])\n",
    "sns.set(style='whitegrid')\n",
    "fitness_df.head()"
   ]
  },
  {
   "cell_type": "markdown",
   "id": "09ffe131",
   "metadata": {},
   "source": [
    "## 📊 Workout Frequency by Type"
   ]
  },
  {
   "cell_type": "code",
   "execution_count": null,
   "id": "8a4e6778",
   "metadata": {},
   "outputs": [],
   "source": [
    "plt.figure(figsize=(8, 5))\n",
    "sns.countplot(data=fitness_df, x='Workout_Type', order=fitness_df['Workout_Type'].value_counts().index)\n",
    "plt.title('Workout Frequency by Type')\n",
    "plt.xlabel('Workout Type')\n",
    "plt.ylabel('Count')\n",
    "plt.xticks(rotation=45)\n",
    "plt.tight_layout()\n",
    "plt.show()"
   ]
  },
  {
   "cell_type": "markdown",
   "id": "0657a984",
   "metadata": {},
   "source": [
    "## 📉 Weight Trend Over Time"
   ]
  },
  {
   "cell_type": "code",
   "execution_count": null,
   "id": "78c2e04b",
   "metadata": {},
   "outputs": [],
   "source": [
    "plt.figure(figsize=(10, 5))\n",
    "sns.lineplot(data=fitness_df, x='Date', y='Weight_lbs', marker='o')\n",
    "plt.title('Weight Trend Over Time')\n",
    "plt.xlabel('Date')\n",
    "plt.ylabel('Weight (lbs)')\n",
    "plt.xticks(rotation=45)\n",
    "plt.tight_layout()\n",
    "plt.show()"
   ]
  },
  {
   "cell_type": "markdown",
   "id": "97327ae7",
   "metadata": {},
   "source": [
    "## 🌙 Sleep vs. Calories Burned"
   ]
  },
  {
   "cell_type": "code",
   "execution_count": null,
   "id": "d94a1d12",
   "metadata": {},
   "outputs": [],
   "source": [
    "plt.figure(figsize=(8, 5))\n",
    "sns.scatterplot(data=fitness_df, x='Sleep_Hours', y='Calories_Burned', hue='Workout_Type')\n",
    "plt.title('Sleep Hours vs. Calories Burned')\n",
    "plt.xlabel('Sleep Hours')\n",
    "plt.ylabel('Calories Burned')\n",
    "plt.tight_layout()\n",
    "plt.show()"
   ]
  },
  {
   "cell_type": "markdown",
   "id": "5da6fd41",
   "metadata": {},
   "source": [
    "## ✅ Summary\n",
    "- Analyzed 30 days of structured fitness and health data.\n",
    "- Found consistent strength training across varied durations.\n",
    "- Observed positive weight and body composition trends over time.\n",
    "- Noted correlation between better sleep and higher calorie expenditure.\n",
    "\n",
    "This analysis forms the basis of a long-term wellness tracking system."
   ]
  }
 ],
 "metadata": {},
 "nbformat": 4,
 "nbformat_minor": 5
}